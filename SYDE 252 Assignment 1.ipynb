{
 "cells": [
  {
   "cell_type": "code",
   "execution_count": 126,
   "metadata": {
    "scrolled": false
   },
   "outputs": [
    {
     "data": {
      "application/vnd.jupyter.widget-view+json": {
       "model_id": "1bca02c98a394989915373f226c0fc61",
       "version_major": 2,
       "version_minor": 0
      },
      "text/plain": [
       "interactive(children=(FloatSlider(value=0.0, description='Omega', max=10.0, min=-10.0, step=1.0), ToggleButton…"
      ]
     },
     "metadata": {},
     "output_type": "display_data"
    }
   ],
   "source": [
    "import numpy as np\n",
    "import matplotlib.pyplot as plt\n",
    "from matplotlib.widgets import Slider, Button, RadioButtons\n",
    "from ipywidgets import interact, interactive, fixed, interact_manual\n",
    "import ipywidgets as widgets\n",
    "\n",
    "@interact(Omega=(-10.0, 10.0, 1.0), buttons=widgets.ToggleButtons(options=('Real', 'Complex', 'Both')))\n",
    "\n",
    "def graph(Omega, buttons):\n",
    "    x = np.arange(0, 2 * np.pi, 0.01)\n",
    "    sine = np.sin(Omega * x)\n",
    "    cosine = np.cos(Omega * x)\n",
    "    if buttons == 'Real':\n",
    "        plt.plot(x, sine, color=\"blue\")\n",
    "        plt.title('Real Component of e^(i*Omega*t)')\n",
    "    elif buttons == 'Complex':\n",
    "        plt.plot(x, cosine, color=\"red\")\n",
    "        plt.title('Complex Component of e^(i*Omega*t)')\n",
    "    elif buttons == 'Both':\n",
    "        plt.plot(x, sine, color=\"blue\")\n",
    "        plt.plot(x, cosine, color=\"red\")\n",
    "        plt.title('Real (Red) and Complex (Blue) Component of e^(i*Omega*t)')\n",
    "    plt.show()"
   ]
  },
  {
   "cell_type": "code",
   "execution_count": 127,
   "metadata": {
    "scrolled": true
   },
   "outputs": [
    {
     "data": {
      "application/vnd.jupyter.widget-view+json": {
       "model_id": "192c14af0b794c66b2aed140e0aca6a8",
       "version_major": 2,
       "version_minor": 0
      },
      "text/plain": [
       "interactive(children=(FloatSlider(value=0.0, description='Omega', max=10.0, min=-10.0, step=1.0), ToggleButton…"
      ]
     },
     "metadata": {},
     "output_type": "display_data"
    }
   ],
   "source": [
    "import numpy as np\n",
    "import matplotlib.pyplot as plt\n",
    "from matplotlib.widgets import Slider, Button, RadioButtons\n",
    "from ipywidgets import interact, interactive, fixed, interact_manual\n",
    "import ipywidgets as widgets\n",
    "\n",
    "@interact(Omega=(-10.0, 10.0, 1.0), buttons=widgets.ToggleButtons(options=('Real', 'Complex', 'Both')))\n",
    "\n",
    "def graph(Omega, buttons):\n",
    "    x = np.arange(0, 25.0, 1.0)\n",
    "    sine = np.sin(Omega * x)\n",
    "    cosine = np.cos(Omega * x)\n",
    "    if buttons == 'Real':\n",
    "        plt.plot(x, sine, 'ro', color=\"blue\")\n",
    "        plt.title('Real Component of e^(i*Omega*t)')\n",
    "    elif buttons == 'Complex':\n",
    "        plt.plot(x, cosine, 'ro', color=\"red\")\n",
    "        plt.title('Complex Component of e^(i*Omega*t)')\n",
    "    elif buttons == 'Both':\n",
    "        plt.plot(x, sine, 'ro', color=\"blue\")\n",
    "        plt.plot(x, cosine, 'ro', color=\"red\")\n",
    "        plt.title('Real (Red) and Complex (Blue) Component of e^(i*Omega*t)')\n",
    "    plt.show()"
   ]
  },
  {
   "cell_type": "code",
   "execution_count": 128,
   "metadata": {},
   "outputs": [
    {
     "data": {
      "application/vnd.jupyter.widget-view+json": {
       "model_id": "c8242fd3f0184b4aa9569075cb89e355",
       "version_major": 2,
       "version_minor": 0
      },
      "text/plain": [
       "interactive(children=(FloatSlider(value=0.0, description='Real', max=1.0, min=-1.0, step=0.01), FloatSlider(va…"
      ]
     },
     "metadata": {},
     "output_type": "display_data"
    },
    {
     "data": {
      "text/plain": [
       "<function __main__.graph(Real, Complex)>"
      ]
     },
     "execution_count": 128,
     "metadata": {},
     "output_type": "execute_result"
    }
   ],
   "source": [
    "import numpy as np\n",
    "import matplotlib.pyplot as plt\n",
    "from matplotlib.widgets import Slider, Button, RadioButtons\n",
    "from ipywidgets import interact, interactive, fixed, interact_manual, FloatSlider\n",
    "import ipywidgets as widgets\n",
    "\n",
    "x_widget = FloatSlider(min=-1.00, max=1.00, step=0.01)\n",
    "y_widget = FloatSlider(min=-1.00, max=1.00, step=0.01)\n",
    "\n",
    "def graph(Real, Complex):\n",
    "    \n",
    "    x = np.arange(-10.0, 10.0, 0.01)\n",
    "    \n",
    "    sigma = np.sqrt(np.power(Real, 2) + np.power(Complex, 2))\n",
    "    \n",
    "    real_comp = np.exp(sigma*x)*np.cos(x)\n",
    "    complex_comp = np.exp(sigma*x)*np.sin(x)\n",
    "\n",
    "    plt.plot(x, real_comp, color=\"blue\")\n",
    "    plt.plot(x, complex_comp, color=\"red\")\n",
    "    plt.title('Real (Red) and Complex (Blue) Components of e^(st)')\n",
    "    plt.legend(['Real', 'Complex'])\n",
    "    plt.show()\n",
    "    \n",
    "interact(graph, Real=x_widget, Complex=y_widget)\n"
   ]
  },
  {
   "cell_type": "code",
   "execution_count": 129,
   "metadata": {},
   "outputs": [
    {
     "data": {
      "application/vnd.jupyter.widget-view+json": {
       "model_id": "2ffc52ec6e6c4d01894c4d7273abe95d",
       "version_major": 2,
       "version_minor": 0
      },
      "text/plain": [
       "interactive(children=(FloatSlider(value=0.0, description='Real', max=1.0, min=-1.0, step=0.01), FloatSlider(va…"
      ]
     },
     "metadata": {},
     "output_type": "display_data"
    },
    {
     "data": {
      "text/plain": [
       "<function __main__.graph(Real, Complex)>"
      ]
     },
     "execution_count": 129,
     "metadata": {},
     "output_type": "execute_result"
    }
   ],
   "source": [
    "import numpy as np\n",
    "import matplotlib.pyplot as plt\n",
    "from matplotlib.widgets import Slider, Button, RadioButtons\n",
    "from ipywidgets import interact, interactive, fixed, interact_manual, FloatSlider\n",
    "import ipywidgets as widgets\n",
    "\n",
    "x_widget = FloatSlider(min=-1.00, max=1.00, step=0.01)\n",
    "y_widget = FloatSlider(min=-1.00, max=1.00, step=0.01)\n",
    "\n",
    "def graph(Real, Complex):\n",
    "    \n",
    "    x = np.arange(-10.0, 10.0, 1.0)\n",
    "    \n",
    "    sigma = np.sqrt(np.power(Real, 2) + np.power(Complex, 2))\n",
    "    \n",
    "    real_comp = np.exp(sigma*x)*np.cos(x)\n",
    "    complex_comp = np.exp(sigma*x)*np.sin(x)\n",
    "\n",
    "    plt.plot(x, real_comp, 'ro', color=\"blue\")\n",
    "    plt.plot(x, complex_comp, 'ro', color=\"red\")\n",
    "    plt.title('Real (Red) and Complex (Blue) Components of e^(st)')\n",
    "    plt.legend(['Real', 'Complex'])\n",
    "    plt.show()\n",
    "    \n",
    "interact(graph, Real=x_widget, Complex=y_widget)\n"
   ]
  },
  {
   "cell_type": "code",
   "execution_count": null,
   "metadata": {},
   "outputs": [],
   "source": []
  }
 ],
 "metadata": {
  "kernelspec": {
   "display_name": "Python 3",
   "language": "python",
   "name": "python3"
  },
  "language_info": {
   "codemirror_mode": {
    "name": "ipython",
    "version": 3
   },
   "file_extension": ".py",
   "mimetype": "text/x-python",
   "name": "python",
   "nbconvert_exporter": "python",
   "pygments_lexer": "ipython3",
   "version": "3.6.5"
  }
 },
 "nbformat": 4,
 "nbformat_minor": 2
}
