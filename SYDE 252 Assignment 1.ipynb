{
 "cells": [
  {
   "cell_type": "code",
   "execution_count": 5,
   "metadata": {
    "scrolled": false
   },
   "outputs": [
    {
     "data": {
      "application/vnd.jupyter.widget-view+json": {
       "model_id": "1111bb9d037f4a11a92f6360eaa05d8d",
       "version_major": 2,
       "version_minor": 0
      },
      "text/plain": [
       "interactive(children=(FloatSlider(value=0.0, description='Omega', max=10.0, min=-10.0, step=1.0), ToggleButton…"
      ]
     },
     "metadata": {},
     "output_type": "display_data"
    }
   ],
   "source": [
    "import numpy as np\n",
    "import matplotlib.pyplot as plt\n",
    "from matplotlib.widgets import Slider, Button, RadioButtons\n",
    "from ipywidgets import interact, interactive, fixed, interact_manual\n",
    "import ipywidgets as widgets\n",
    "\n",
    "@interact(Omega=(-10.0, 10.0, 1.0), buttons=widgets.ToggleButtons(options=('Real', 'Complex', 'Both')))\n",
    "\n",
    "def graph(Omega, buttons):\n",
    "    x = np.arange(0, 2 * np.pi, 0.01)\n",
    "    sine = np.sin(Omega * x)\n",
    "    cosine = np.cos(Omega * x)\n",
    "    if buttons == 'Real':\n",
    "        plt.plot(x, sine, color=\"blue\")\n",
    "        plt.title('Real Component of e^(i*Omega*t)')\n",
    "    elif buttons == 'Complex':\n",
    "        plt.plot(x, cosine, color=\"red\")\n",
    "        plt.title('Complex Component of e^(i*Omega*t)')\n",
    "    elif buttons == 'Both':\n",
    "        plt.plot(x, sine, color=\"blue\")\n",
    "        plt.plot(x, cosine, color=\"red\")\n",
    "        plt.title('Real (Red) and Complex (Blue) Component of e^(i*Omega*t)')\n",
    "    plt.show()"
   ]
  },
  {
   "cell_type": "code",
   "execution_count": 4,
   "metadata": {
    "scrolled": true
   },
   "outputs": [
    {
     "data": {
      "application/vnd.jupyter.widget-view+json": {
       "model_id": "57ac78e8f4984916bc0b336a52267f1a",
       "version_major": 2,
       "version_minor": 0
      },
      "text/plain": [
       "interactive(children=(FloatSlider(value=0.0, description='Omega', max=10.0, min=-10.0, step=1.0), ToggleButton…"
      ]
     },
     "metadata": {},
     "output_type": "display_data"
    }
   ],
   "source": [
    "import numpy as np\n",
    "import matplotlib.pyplot as plt\n",
    "from matplotlib.widgets import Slider, Button, RadioButtons\n",
    "from ipywidgets import interact, interactive, fixed, interact_manual\n",
    "import ipywidgets as widgets\n",
    "\n",
    "@interact(Omega=(-10.0, 10.0, 1.0), buttons=widgets.ToggleButtons(options=('Real', 'Complex', 'Both')))\n",
    "\n",
    "def graph(Omega, buttons):\n",
    "    x = np.arange(0, 25.0, 1.0)\n",
    "    sine = np.sin(Omega * x)\n",
    "    cosine = np.cos(Omega * x)\n",
    "    if buttons == 'Real':\n",
    "        plt.plot(x, sine, 'ro', color=\"blue\")\n",
    "        plt.title('Real Component of e^(i*Omega*t)')\n",
    "    elif buttons == 'Complex':\n",
    "        plt.plot(x, cosine, 'ro', color=\"red\")\n",
    "        plt.title('Complex Component of e^(i*Omega*t)')\n",
    "    elif buttons == 'Both':\n",
    "        plt.plot(x, sine, 'ro', color=\"blue\")\n",
    "        plt.plot(x, cosine, 'ro', color=\"red\")\n",
    "        plt.title('Real (Red) and Complex (Blue) Component of e^(i*Omega*t)')\n",
    "    plt.show()"
   ]
  },
  {
   "cell_type": "code",
   "execution_count": 5,
   "metadata": {},
   "outputs": [
    {
     "data": {
      "application/vnd.jupyter.widget-view+json": {
       "model_id": "77fd9ceb74364e0d82d66fae1fe55995",
       "version_major": 2,
       "version_minor": 0
      },
      "text/plain": [
       "interactive(children=(FloatSlider(value=0.0, description='Real', max=1.0, min=-1.0, step=0.01), FloatSlider(va…"
      ]
     },
     "metadata": {},
     "output_type": "display_data"
    },
    {
     "data": {
      "text/plain": [
       "<function __main__.graph(Real, Complex)>"
      ]
     },
     "execution_count": 5,
     "metadata": {},
     "output_type": "execute_result"
    }
   ],
   "source": [
    "import numpy as np\n",
    "import matplotlib.pyplot as plt\n",
    "from matplotlib.widgets import Slider, Button, RadioButtons\n",
    "from ipywidgets import interact, interactive, fixed, interact_manual, FloatSlider\n",
    "import ipywidgets as widgets\n",
    "\n",
    "x_widget = FloatSlider(min=-1.00, max=1.00, step=0.01)\n",
    "y_widget = FloatSlider(min=-1.00, max=1.00, step=0.01)\n",
    "\n",
    "def graph(Real, Complex):\n",
    "    \n",
    "    x = np.arange(-10.0, 10.0, 0.01)\n",
    "    \n",
    "    sigma = np.sqrt(np.power(Real, 2) + np.power(Complex, 2))\n",
    "    \n",
    "    real_comp = np.exp(sigma*x)*np.cos(x)\n",
    "    complex_comp = np.exp(sigma*x)*np.sin(x)\n",
    "\n",
    "    plt.plot(x, real_comp, color=\"blue\")\n",
    "    plt.plot(x, complex_comp, color=\"red\")\n",
    "    plt.title('Real (Red) and Complex (Blue) Components of e^(st)')\n",
    "    plt.legend(['Real', 'Complex'])\n",
    "    plt.show()\n",
    "    \n",
    "interact(graph, Real=x_widget, Complex=y_widget)\n"
   ]
  },
  {
   "cell_type": "code",
   "execution_count": 2,
   "metadata": {},
   "outputs": [
    {
     "data": {
      "application/vnd.jupyter.widget-view+json": {
       "model_id": "e5f6202b62084c0695193c3c895a5b70",
       "version_major": 2,
       "version_minor": 0
      },
      "text/plain": [
       "interactive(children=(FloatSlider(value=0.0, description='Real', max=1.0, min=-1.0, step=0.01), FloatSlider(va…"
      ]
     },
     "metadata": {},
     "output_type": "display_data"
    }
   ],
   "source": [
    "import numpy as np\n",
    "import matplotlib.pyplot as plt\n",
    "from matplotlib.widgets import Slider, Button, RadioButtons\n",
    "from ipywidgets import interact, interactive, fixed, interact_manual, FloatSlider\n",
    "import ipywidgets as widgets\n",
    "\n",
    "x_widget = FloatSlider(min=-1.00, max=1.00, step=0.01)\n",
    "y_widget = FloatSlider(min=-1.00, max=1.00, step=0.01)\n",
    "\n",
    "def graph(Real, Complex):\n",
    "    \n",
    "    x = np.arange(-10.0, 10.0, 1.0)\n",
    "    \n",
    "    sigma = np.sqrt(np.power(Real, 2) + np.power(Complex, 2))\n",
    "    \n",
    "    real_comp = np.exp(sigma*x)*np.cos(x)\n",
    "    complex_comp = np.exp(sigma*x)*np.sin(x)\n",
    "\n",
    "    plt.plot(x, real_comp, 'ro', color=\"blue\")\n",
    "    plt.plot(x, complex_comp, 'ro', color=\"red\")\n",
    "    plt.title('Real (Red) and Complex (Blue) Components of e^(st)')\n",
    "    plt.legend(['Real', 'Complex'])\n",
    "    plt.show()\n",
    "    \n",
    "interact(graph, Real=x_widget, Complex=y_widget)\n"
   ]
  },
  {
   "cell_type": "code",
   "execution_count": null,
   "metadata": {},
   "outputs": [],
   "source": []
  }
 ],
 "metadata": {
  "kernelspec": {
   "display_name": "Python 3",
   "language": "python",
   "name": "python3"
  },
  "language_info": {
   "codemirror_mode": {
    "name": "ipython",
    "version": 3
   },
   "file_extension": ".py",
   "mimetype": "text/x-python",
   "name": "python",
   "nbconvert_exporter": "python",
   "pygments_lexer": "ipython3",
   "version": "3.6.5"
  }
 },
 "nbformat": 4,
 "nbformat_minor": 2
}
